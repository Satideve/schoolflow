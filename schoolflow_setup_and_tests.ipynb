{
 "cells": [
  {
   "cell_type": "markdown",
   "id": "73a767f1",
   "metadata": {},
   "source": [
    "# SchoolFlow Setup & Tests\n",
    "This notebook verifies environment, starts the local infra, runs migrations, seeds data, and exercises the Fees flow end-to-end (using Fake adapters unless you configured real provider keys).\n"
   ]
  },
  {
   "cell_type": "markdown",
   "id": "12971bac",
   "metadata": {},
   "source": [
    "# Pytest\n",
    "\n",
    "### (i) complete tes twith test-data sqlite (ii) and  a particular test\n",
    "\n",
    "docker-compose exec backend sh -c \"PYTHONPATH=/app/backend pytest /app/backend/tests -q -s --maxfail=1 --tb=short --log-cli-level=DEBUG\"\n",
    "\n",
    "docker-compose exec backend sh -c \"PYTHONPATH=/app/backend pytest /app/backend/tests/api/test_fees.py -q -s --maxfail=1 --tb=short --log-cli-level=DEBUG\"\n",
    "\n",
    "### (i) complete tes twith test-data real data"
   ]
  },
  {
   "cell_type": "markdown",
   "id": "3a51c0ac",
   "metadata": {},
   "source": []
  }
 ],
 "metadata": {
  "kernelspec": {
   "display_name": "Python 3",
   "language": "python",
   "name": "python3"
  },
  "language_info": {
   "codemirror_mode": {
    "name": "ipython",
    "version": 3
   },
   "file_extension": ".py",
   "mimetype": "text/x-python",
   "name": "python",
   "nbconvert_exporter": "python",
   "pygments_lexer": "ipython3",
   "version": "3.13.7"
  }
 },
 "nbformat": 4,
 "nbformat_minor": 5
}
