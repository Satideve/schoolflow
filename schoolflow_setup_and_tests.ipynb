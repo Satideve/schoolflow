{
 "cells": [
  {
   "cell_type": "markdown",
   "id": "73a767f1",
   "metadata": {},
   "source": [
    "# SchoolFlow Setup & Tests\n",
    "This notebook verifies environment, starts the local infra, runs migrations, seeds data, and exercises the Fees flow end-to-end (using Fake adapters unless you configured real provider keys).\n"
   ]
  },
  {
   "cell_type": "code",
   "execution_count": 20,
   "id": "bc849a3e",
   "metadata": {},
   "outputs": [],
   "source": [
    "import os\n",
    "os.chdir(r\"C:\\coding_projects\\dev\\schoolflow\")"
   ]
  },
  {
   "cell_type": "code",
   "execution_count": 21,
   "id": "4b35d5a3",
   "metadata": {},
   "outputs": [
    {
     "data": {
      "text/plain": [
       "'C:\\\\coding_projects\\\\dev\\\\schoolflow'"
      ]
     },
     "execution_count": 21,
     "metadata": {},
     "output_type": "execute_result"
    }
   ],
   "source": [
    "import os\n",
    "os.getcwd()\n"
   ]
  },
  {
   "cell_type": "code",
   "execution_count": 22,
   "id": "03a9ced6",
   "metadata": {},
   "outputs": [
    {
     "name": "stdout",
     "output_type": "stream",
     "text": [
      "Current working directory: C:\\coding_projects\\dev\\schoolflow\n",
      "✅ OK: at repo root.\n"
     ]
    }
   ],
   "source": [
    "import os\n",
    "from pathlib import Path\n",
    "\n",
    "CWD = Path.cwd()\n",
    "EXPECTED = [\"backend\", \"infra\", \"ops\", \"docs\"]\n",
    "missing = [d for d in EXPECTED if not (CWD / d).exists()]\n",
    "\n",
    "print(\"Current working directory:\", CWD)\n",
    "if missing:\n",
    "    print(\"❌ NOT at repo root. Missing entries:\", missing)\n",
    "    print(\"\\n→ If your repo is at, e.g., C:\\\\dev\\\\schoolflow, run:\")\n",
    "    print(r'    import os; os.chdir(r\"C:\\dev\\schoolflow\")')\n",
    "else:\n",
    "    print(\"✅ OK: at repo root.\")\n"
   ]
  },
  {
   "cell_type": "markdown",
   "id": "f2afd6b4",
   "metadata": {},
   "source": [
    "## 5.1 — Ensure the backend API is running (and start it if needed)\n",
    "\n",
    "**What to do:**  \n",
    "- **Option A (recommended):** In a separate PowerShell, from `schoolflow/backend`, run  \n",
    "  `poetry run uvicorn app.main:app --reload --host 0.0.0.0 --port 8000`  \n",
    "  Then come back and run the health check cell (5.2).\n",
    "\n",
    "- **Option B (from notebook):** Run the “Start backend here” cell below once. It launches Uvicorn in the background of the notebook session.\n",
    "\n",
    "> If you switch between A and B, stop any previous Uvicorn first to avoid port conflicts.\n"
   ]
  },
  {
   "cell_type": "code",
   "execution_count": null,
   "id": "16e5d7a7",
   "metadata": {},
   "outputs": [],
   "source": []
  }
 ],
 "metadata": {
  "kernelspec": {
   "display_name": "Python 3",
   "language": "python",
   "name": "python3"
  },
  "language_info": {
   "codemirror_mode": {
    "name": "ipython",
    "version": 3
   },
   "file_extension": ".py",
   "mimetype": "text/x-python",
   "name": "python",
   "nbconvert_exporter": "python",
   "pygments_lexer": "ipython3",
   "version": "3.13.7"
  }
 },
 "nbformat": 4,
 "nbformat_minor": 5
}
